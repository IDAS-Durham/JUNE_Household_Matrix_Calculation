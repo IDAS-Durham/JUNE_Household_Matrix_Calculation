{
 "cells": [
  {
   "cell_type": "code",
   "execution_count": 1,
   "id": "09bc6c34",
   "metadata": {},
   "outputs": [
    {
     "name": "stderr",
     "output_type": "stream",
     "text": [
      "No --data argument given - defaulting to:\n",
      "/home/joseph/Documents/PhD/UN_Work/JUNE-private/data\n",
      "No --configs argument given - defaulting to:\n",
      "/home/joseph/Documents/PhD/UN_Work/JUNE-private/june/configs\n"
     ]
    }
   ],
   "source": [
    "import numpy as np\n",
    "import pandas as pd\n",
    "import matplotlib.pyplot as plt\n",
    "from june.paths import data_path\n",
    "\n",
    "def AnnotateCM(cm, cm_err, ax, thresh=1e10):\n",
    "    \"\"\"\n",
    "    Function to annotate the CM with text. Including error catching for Nonetype errors.\n",
    "\n",
    "    Parameters\n",
    "    ----------\n",
    "        cm:\n",
    "            np.array contact matrix\n",
    "        cm_err:\n",
    "            np.array contact matrix errors\n",
    "        ax:\n",
    "            matplotlib axes\n",
    "        thresh:\n",
    "            threshhold value for CM text change colour\n",
    "\n",
    "\n",
    "    Returns\n",
    "    -------\n",
    "        ax\n",
    "    \"\"\"\n",
    "    size=15\n",
    "    if cm.shape[0] == 3:\n",
    "        size=12\n",
    "    if cm.shape[0] > 3:\n",
    "        size=10\n",
    "\n",
    "    for i in range(cm.shape[0]):\n",
    "        for j in range(cm.shape[1]):\n",
    "            fmt = \".2f\"\n",
    "            if cm[i,j] == 1e-16:\n",
    "                cm[i,j] = 0\n",
    "            if cm[i,j] > 1e8:\n",
    "                cm[i,j] = np.inf\n",
    "\n",
    "            if cm_err is not None:\n",
    "                if np.isnan(cm_err[i,j]):\n",
    "                    cm_err[i,j]=0\n",
    "\n",
    "                if cm_err[i,j] + cm[i,j] == 0:\n",
    "                    fmt = \".0f\"\n",
    "\n",
    "                text =  r\"$ %s \\pm %s$\" % (format(cm[i, j], fmt), format(cm_err[i, j], fmt))\n",
    "            else: \n",
    "                text =  r\"$ %s $\" % (format(cm[i, j], fmt))\n",
    "\n",
    "            if thresh == 1e8:\n",
    "                ax.text(j, i,text,\n",
    "                    ha=\"center\", va=\"center\",\n",
    "                    color=\"black\",size=size)\n",
    "            else:\n",
    "                ax.text(j, i,text,\n",
    "                    ha=\"center\", va=\"center\",\n",
    "                    color=\"white\" if abs(cm[i, j] - 1) > thresh else \"black\",size=size)\n",
    "    return ax"
   ]
  },
  {
   "cell_type": "markdown",
   "id": "6c17cd1c",
   "metadata": {},
   "source": [
    "# Population sizes"
   ]
  },
  {
   "cell_type": "code",
   "execution_count": 2,
   "id": "82bc4e50",
   "metadata": {},
   "outputs": [
    {
     "name": "stdout",
     "output_type": "stream",
     "text": [
      "N kids: 13443727\n",
      "N Young adults: 5949817\n",
      "N adults: 33411507\n",
      "N olds: 10377127\n",
      "N Tot: 63182178, CHECK: 63182178\n",
      "Nkids per young adults 2.259519410428926\n",
      "N Tot: 63182178, CHECK: 63182178.0\n"
     ]
    },
    {
     "data": {
      "text/plain": [
       "Text(0, 0.5, 'Population density')"
      ]
     },
     "execution_count": 2,
     "metadata": {},
     "output_type": "execute_result"
    },
    {
     "data": {
      "image/png": "[encoded data removed]",
      "text/plain": [
       "<Figure size 432x288 with 1 Axes>"
      ]
     },
     "metadata": {
      "needs_background": "light"
     },
     "output_type": "display_data"
    }
   ],
   "source": [
    "#https://www.nomisweb.co.uk/census/2011/KS102UK/view/2092957697?cols=measures\n",
    "ONS_census = {\n",
    "    \"0-4\" : 3913953,\n",
    "    \"5-7\" : 2158947,\n",
    "    \"8-9\" : 1357668,\n",
    "    \"10-14\" : 3669326,\n",
    "    \"15\" : 774892,\n",
    "    \"16-17\" : 1568941,\n",
    "    \"18-19\" : 1652619,\n",
    "    \"20-24\" : 4297198,\n",
    "    \"25-29\" : 4306340,\n",
    "    \"30-44\" : 12945561,\n",
    "    \"45-59\" : 12351632,\n",
    "    \"60-64\" : 3807974,\n",
    "    \"65-74\" : 5480225,\n",
    "    \"75-84\" : 3504915,\n",
    "    \"85-89\" : 918343,\n",
    "    \"90-99\" : 473644\n",
    "}\n",
    "\n",
    "#Get K,Y,A,O\n",
    "NK = np.sum([ONS_census[\"0-4\"], ONS_census[\"5-7\"], ONS_census[\"8-9\"], ONS_census[\"10-14\"], ONS_census[\"15\"], ONS_census[\"16-17\"] ])\n",
    "NY = np.sum([ONS_census[\"18-19\"], ONS_census[\"20-24\"]])\n",
    "NA = np.sum([ONS_census[\"25-29\"], ONS_census[\"30-44\"], ONS_census[\"45-59\"], ONS_census[\"60-64\"]])\n",
    "NO = np.sum([ONS_census[\"65-74\"], ONS_census[\"75-84\"], ONS_census[\"85-89\"], ONS_census[\"90-99\"]])\n",
    "\n",
    "print(f\"N kids: {NK}\")\n",
    "print(f\"N Young adults: {NY}\")\n",
    "print(f\"N adults: {NA}\")\n",
    "print(f\"N olds: {NO}\")\n",
    "print(f\"N Tot: {NK+NY+NA+NO}, CHECK: {np.sum(list(ONS_census.values()))}\")\n",
    "\n",
    "NKA_ratio = NK / NY\n",
    "print(f\"Nkids per young adults {NKA_ratio}\")\n",
    "\n",
    "#Get BBC_Pandemic_binning\n",
    "BBC_census = {\n",
    "    \"0-4\" : ONS_census[\"0-4\"],\n",
    "    \"5-9\" : ONS_census[\"5-7\"]+ONS_census[\"8-9\"],\n",
    "    \"10-12\" : ONS_census[\"10-14\"]*(((12-10)+1)/((14-10)+1)),\n",
    "    \"13-14\" : ONS_census[\"10-14\"]*(((14-13)+1)/((14-10)+1)),\n",
    "    \"15-17\" : ONS_census[\"15\"]+ONS_census[\"16-17\"],\n",
    "    \"18-19\" : ONS_census[\"18-19\"],\n",
    "    \"20-21\" : ONS_census[\"20-24\"]*(((21-20)+1)/((24-20)+1)),\n",
    "    \"22-24\" : ONS_census[\"20-24\"]*(((24-22)+1)/((24-20)+1)),\n",
    "    \"25-29\" : ONS_census[\"25-29\"],\n",
    "    \"30-34\" : ONS_census[\"30-44\"]*(((34-30)+1)/((44-30)+1)),\n",
    "    \"35-39\" : ONS_census[\"30-44\"]*(((39-35)+1)/((44-30)+1)),\n",
    "    \"40-44\" : ONS_census[\"30-44\"]*(((44-40)+1)/((44-30)+1)),\n",
    "    \"45-49\" : ONS_census[\"45-59\"]*(((49-45)+1)/((59-45)+1)),\n",
    "    \"50-54\" : ONS_census[\"45-59\"]*(((54-50)+1)/((59-45)+1)),\n",
    "    \"55-59\" : ONS_census[\"45-59\"]*(((59-55)+1)/((59-45)+1)),\n",
    "    \"60-64\" : ONS_census[\"60-64\"],\n",
    "    \"65-69\" : ONS_census[\"65-74\"]*(((69-65)+1)/((74-65)+1)),\n",
    "    \"70-74\" : ONS_census[\"65-74\"]*(((74-70)+1)/((74-65)+1)),\n",
    "    \"75-99\" : ONS_census[\"75-84\"]+ONS_census[\"85-89\"]+ONS_census[\"90-99\"],\n",
    "}\n",
    "print(f\"N Tot: {np.sum(list(ONS_census.values()))}, CHECK: {np.sum(list(BBC_census.values()))}\")\n",
    "\n",
    "NA_P = np.sum([BBC_census[\"25-29\"], BBC_census[\"30-34\"], BBC_census[\"35-39\"], BBC_census[\"35-39\"], BBC_census[\"40-44\"]])\n",
    "\n",
    "def GetBins(LIST):\n",
    "    bin_edges = []\n",
    "    for li in LIST:\n",
    "        bin_edges.append(int(li.split(\"-\")[0]))\n",
    "    bin_edges.append(int(li.split(\"-\")[1]))\n",
    "    bin_edges = np.array(bin_edges)\n",
    "    widths = np.diff(bin_edges)\n",
    "    bin_centers = (bin_edges[1:]+bin_edges[:-1])/2\n",
    "    return bin_edges, bin_centers, widths\n",
    "\n",
    "BBC_bin_edges, BBC_bin_centers, BBC_widths = GetBins(list(BBC_census.keys()))\n",
    "BBC_census_H = np.array(list(BBC_census.values()))\n",
    "ONS_bin_edges, ONS_bin_centers, ONS_widths = GetBins(list(ONS_census.keys()))\n",
    "ONS_census_H = np.array(list(ONS_census.values()))\n",
    "\n",
    "plt.bar(height = BBC_census_H/(BBC_widths*sum(BBC_census_H)), x = BBC_bin_centers, width=BBC_widths, alpha=0.3)\n",
    "plt.bar(height = ONS_census_H/(ONS_widths*sum(ONS_census_H)), x = ONS_bin_centers, width=ONS_widths, alpha=0.3)\n",
    "plt.xlabel(\"Age\")\n",
    "plt.ylabel(\"Population density\")"
   ]
  },
  {
   "cell_type": "markdown",
   "id": "ade85b53",
   "metadata": {},
   "source": [
    "# Resize BBC Pandemic CM"
   ]
  },
  {
   "cell_type": "code",
   "execution_count": 4,
   "id": "f82174cd",
   "metadata": {},
   "outputs": [],
   "source": [
    "default_BBC_Pandemic_loc = data_path / \"BBC_Pandemic\"\n",
    "df = pd.read_excel(default_BBC_Pandemic_loc / \"BBC reciprocal matrices by type and context.xls\", sheet_name =\"all_home\")\n",
    "bbc_cm = df.iloc[:,1:].values.T\n",
    "bbc_labels = df.iloc[:,0].values\n",
    "\n",
    "bbc_Max = np.nanmax(bbc_cm)\n",
    "bbc_Min = np.nanmin(bbc_cm)\n",
    "\n",
    "bbc_cm = np.nan_to_num(bbc_cm, nan=.215) #This value chosen to give desired 0.47 KK contacts."
   ]
  },
  {
   "cell_type": "code",
   "execution_count": 5,
   "id": "15ad43f1",
   "metadata": {},
   "outputs": [
    {
     "data": {
      "text/plain": [
       "<matplotlib.colorbar.Colorbar at 0x7f46e3bb00a0>"
      ]
     },
     "execution_count": 5,
     "metadata": {},
     "output_type": "execute_result"
    },
    {
     "data": {
      "image/png": "[encoded data removed]",
      "text/plain": [
       "<Figure size 1080x360 with 4 Axes>"
      ]
     },
     "metadata": {},
     "output_type": "display_data"
    }
   ],
   "source": [
    "Contracted_labels = [\"K\",\"Y\",\"A\",\"O\"]\n",
    "def bin_which(bin_i):\n",
    "    if 0 <= bin_i < 5:\n",
    "        return Contracted_labels[0], 0\n",
    "    elif 5 <= bin_i < 8:\n",
    "        return Contracted_labels[1], 1\n",
    "    elif 8 <= bin_i < 16:\n",
    "        return Contracted_labels[2], 2\n",
    "    else:\n",
    "        return Contracted_labels[3], 3\n",
    "    \n",
    "\n",
    "BBC_Contracted = np.zeros((4,4))\n",
    "for bi in range(len(bbc_cm)):\n",
    "    i_type, Ci = bin_which(bi)\n",
    "    for bj in range(len(bbc_cm)):\n",
    "        j_type, Cj = bin_which(bj)\n",
    "        \n",
    "        if i_type == Contracted_labels[0]:\n",
    "            BBC_Contracted[Ci, Cj] += bbc_cm[bi,bj]*BBC_census_H[bi]/NK\n",
    "        if i_type == Contracted_labels[1]:\n",
    "            BBC_Contracted[Ci, Cj] += bbc_cm[bi,bj]*BBC_census_H[bi]/NY\n",
    "        if i_type == Contracted_labels[2]:\n",
    "            BBC_Contracted[Ci, Cj] += bbc_cm[bi,bj]*BBC_census_H[bi]/NA\n",
    "        if i_type == Contracted_labels[3]:\n",
    "            BBC_Contracted[Ci, Cj] += bbc_cm[bi,bj]*BBC_census_H[bi]/NO\n",
    "\n",
    "plt.rcParams[\"figure.figsize\"] = (15,5)\n",
    "f, (ax1,ax2) = plt.subplots(1,2)\n",
    "f.patch.set_facecolor('white')\n",
    "im1 = ax1.imshow(bbc_cm.T, origin=\"lower\")\n",
    "ax1.xaxis.tick_bottom()\n",
    "ax1.set_xticks(np.arange(len(bbc_cm)))\n",
    "ax1.set_xticklabels(bbc_labels,rotation=45)\n",
    "ax1.set_yticks(np.arange(len(bbc_cm)))\n",
    "ax1.set_yticklabels(bbc_labels)\n",
    "\n",
    "im2 = ax2.imshow(BBC_Contracted.T, origin=\"lower\", vmin=0, vmax=None)\n",
    "AnnotateCM(BBC_Contracted.T, cm_err=None, ax=ax2, thresh=np.inf)\n",
    "ax2.xaxis.tick_bottom()\n",
    "ax2.set_xticks(np.arange(len(BBC_Contracted)))\n",
    "ax2.set_xticklabels(Contracted_labels,rotation=45)\n",
    "ax2.set_yticks(np.arange(len(BBC_Contracted)))\n",
    "ax2.set_yticklabels(Contracted_labels)\n",
    "\n",
    "f.colorbar(im1, ax=ax1, extend=\"both\")\n",
    "f.colorbar(im2, ax=ax2, extend=\"both\")"
   ]
  },
  {
   "cell_type": "markdown",
   "id": "f9cba5c9",
   "metadata": {},
   "source": [
    "# By Population CM "
   ]
  },
  {
   "cell_type": "code",
   "execution_count": 6,
   "id": "4f0fc15d",
   "metadata": {},
   "outputs": [
    {
     "name": "stdout",
     "output_type": "stream",
     "text": [
      "[[0.74143528 0.08341433 1.48515004 0.11486144]\n",
      " [0.19708679 1.26540742 0.9482771  0.1090033 ]\n",
      " [0.61453296 0.15390246 1.24744156 0.2110017 ]\n",
      " [0.13066902 0.05131155 0.58468668 0.73585292]]\n",
      "\n",
      "{'K': {'K': 0.7414352842124242, 'Y': 0.083414329489808, 'A': 1.4851500369392967, 'O': 0.1148614384937436}, 'Y': {'K': 0.19708678759827042, 'Y': 1.2654074206114556, 'A': 0.9482771048155348, 'O': 0.10900329924463009}, 'A': {'K': 0.6145329553098152, 'Y': 0.1539024594951404, 'A': 1.2474415615086176, 'O': 0.21100170296000434}, 'O': {'K': 0.13066902480322468, 'Y': 0.0513115453695441, 'A': 0.5846866831213573, 'O': 0.7358529200788547}}\n"
     ]
    }
   ],
   "source": [
    "BBC_Dict = {}\n",
    "for b_i in range(len(Contracted_labels)):\n",
    "    li = Contracted_labels[b_i]\n",
    "    BBC_Dict[li] = {}\n",
    "    for b_j in range(len(Contracted_labels)):\n",
    "        lj = Contracted_labels[b_j]\n",
    "        BBC_Dict[li][lj] = BBC_Contracted[b_i, b_j]\n",
    "        \n",
    "\n",
    "print(BBC_Contracted)\n",
    "print(\"\")\n",
    "print(BBC_Dict)"
   ]
  },
  {
   "cell_type": "markdown",
   "id": "90521e5c",
   "metadata": {},
   "source": [
    "# Number of children per family household"
   ]
  },
  {
   "cell_type": "code",
   "execution_count": 7,
   "id": "2fb0b286",
   "metadata": {},
   "outputs": [
    {
     "name": "stdout",
     "output_type": "stream",
     "text": [
      "Average dependents 1.740931973667226\n",
      "Average 2+  2.3673177703668413\n",
      "{1: 0.45811281786498, 2: 0.3926681295985543, 3: 0.11010713824706338, 4: 0.02839808958306441, 5: 0.010713824706337938}\n"
     ]
    }
   ],
   "source": [
    "#https://www.ons.gov.uk/peoplepopulationandcommunity/birthsdeathsandmarriages/families/adhocs/008855familieswithdependentchildrenbynumberofchildrenuk1996to2017\n",
    "NFamilys = 7747000\n",
    "NDependents = {\n",
    "    1: 3549000,\n",
    "    2: 3042000,\n",
    "    3: 853000, \n",
    "    4: 220000,\n",
    "    5: 83000,\n",
    "}\n",
    "\n",
    "NDependents_Frac = {}\n",
    "\n",
    "av_dependents = 0\n",
    "av_dependents_2p = 0\n",
    "counter = 1\n",
    "for NF in NDependents.values():\n",
    "    NDependents_Frac[counter] =  NF / NFamilys\n",
    "    av_dependents += counter * NDependents_Frac[counter]\n",
    "    \n",
    "    if counter > 1:\n",
    "        av_dependents_2p += counter * NF / (NFamilys-NDependents[1])\n",
    "    counter += 1\n",
    "    \n",
    "print(f\"Average dependents {av_dependents}\")\n",
    "print(f\"Average 2+  {av_dependents_2p}\")\n",
    "print(NDependents_Frac)"
   ]
  },
  {
   "cell_type": "markdown",
   "id": "098517ae",
   "metadata": {},
   "source": [
    "# Normalised by Households"
   ]
  },
  {
   "cell_type": "code",
   "execution_count": 8,
   "id": "d0fe886c",
   "metadata": {},
   "outputs": [],
   "source": [
    "#https://www.nomisweb.co.uk/census/2011/KS105UK/view/2092957697?cols=measures\n",
    "\n",
    "H_ONS = {\n",
    "    \"Total\" : 26442096,\n",
    "    \"One person household\" : {\n",
    "        \"Total\" : 8086989,\n",
    "        \"Aged 65 and over\" : 3293898,\n",
    "        \"Other\" : 4793091\n",
    "    },\n",
    "    \"One family household\" : {\n",
    "        \"Total\" : 16321730,\n",
    "        \"All aged 65 and over\" : 2131191,\n",
    "        \"Married or same-sex civil partnership couple\" : {\n",
    "            \"Total\" : 8785131,\n",
    "            \"No children\" : 3252811,\n",
    "            \"Dependent children\" : 4017793,\n",
    "            \"All children non-dependent\" : 1514527,\n",
    "        },\n",
    "        \"Cohabiting couple\" : {\n",
    "            \"Total\" : 2554054,\n",
    "            \"No children\" : 1371761,\n",
    "            \"Dependent children\" : 1053397,\n",
    "            \"All children non-dependent\" : 128896\n",
    "        },\n",
    "        \"Lone parent\" : {\n",
    "            \"Total\" : 2851354,\n",
    "            \"Dependent children\" : 1905626,\n",
    "            \"All children non-dependent\" : 945728  \n",
    "        }\n",
    "    },\n",
    "    \"Other household types\" : {\n",
    "        \"Total\" : 2033377,\n",
    "        \"With dependent children\" : 668559,\n",
    "        \"All full-time students\" : 155335,\n",
    "        \"All aged 65 and over\" : 75044,\n",
    "        \"Other\" : 1134439\n",
    "            \n",
    "    }   \n",
    "}\n",
    "\n",
    "Nround = 3"
   ]
  },
  {
   "cell_type": "markdown",
   "id": "e56daeb4",
   "metadata": {},
   "source": [
    "# Check We can account for N K, Y, A and O"
   ]
  },
  {
   "cell_type": "code",
   "execution_count": 9,
   "id": "0f9cb477",
   "metadata": {},
   "outputs": [
    {
     "name": "stdout",
     "output_type": "stream",
     "text": [
      "1.070673163805344 1.4559004287756074\n"
     ]
    }
   ],
   "source": [
    "#Check these totals...\n",
    "Frac_Y = (NY/ (NY+NA))\n",
    "Frac_A = (NA/ (NY+NA))\n",
    "Frac_A_P = (NA_P / (NA)) #Fraction of Adults 25 - 49.\n",
    "\n",
    "\n",
    "YwParents = 0.615\n",
    "YwParentsP1 = 0\n",
    "YwParentsP2 = 0\n",
    "\n",
    "from scipy.stats import binom\n",
    "for nkids in range(1,list(NDependents_Frac.keys())[-1]+1):\n",
    "    mean, var = binom.stats(nkids, YwParents)\n",
    "    \n",
    "    YwParentsP1 += mean*NDependents_Frac[nkids]\n",
    "    \n",
    "for nkids in range(2, list(NDependents_Frac.keys())[-1]+1):\n",
    "    mean, var = binom.stats(nkids, YwParents)\n",
    "    YwParentsP2 += mean*(NDependents_Frac[nkids] / (1-NDependents_Frac[1]))\n",
    "    \n",
    "print(YwParentsP1, YwParentsP2)"
   ]
  },
  {
   "cell_type": "code",
   "execution_count": 10,
   "id": "2da7da7a",
   "metadata": {},
   "outputs": [
    {
     "name": "stdout",
     "output_type": "stream",
     "text": [
      "Census O: 10377127, Household O: 7556280, Ratio: 0.7281668615985908\n",
      "Census A: 33411507, Household A: 21670677.341394007, Ratio: 0.6485992188677394\n",
      "Census Y: 5949817, Household Y: 5214638.610971718, Ratio: 0.8764368065390445\n",
      "Census K: 13443727, Household K: 12146162.048793081, Ratio: 0.9034817538910959\n"
     ]
    }
   ],
   "source": [
    "AverageCareHomeSize=20\n",
    "MultiGen=2\n",
    "NO_Check = \\\n",
    "    H_ONS[\"One person household\"][\"Aged 65 and over\"] + \\\n",
    "    2*H_ONS[\"One family household\"][\"All aged 65 and over\"]\n",
    "print(f\"Census O: {NO}, Household O: {NO_Check}, Ratio: {NO_Check / NO}\")\n",
    "\n",
    "\n",
    "Other = 0\n",
    "NA_Check = \\\n",
    "    Frac_A*2*H_ONS[\"One family household\"][\"Married or same-sex civil partnership couple\"][\"Total\"]+\\\n",
    "    Frac_A*2*H_ONS[\"One family household\"][\"Cohabiting couple\"][\"Total\"]+\\\n",
    "    Frac_A*H_ONS[\"One family household\"][\"Lone parent\"][\"Total\"]\n",
    "print(f\"Census A: {NA}, Household A: {NA_Check}, Ratio: {NA_Check / NA}\")\n",
    "\n",
    "StudentsPerHouse = 4\n",
    "FractionDependents = 1\n",
    "NY_Check = \\\n",
    "    StudentsPerHouse*H_ONS[\"Other household types\"][\"All full-time students\"] + \\\n",
    "    YwParentsP1*H_ONS[\"One family household\"][\"Married or same-sex civil partnership couple\"][\"All children non-dependent\"]+\\\n",
    "    YwParentsP1*H_ONS[\"One family household\"][\"Cohabiting couple\"][\"All children non-dependent\"]+\\\n",
    "    YwParentsP1*H_ONS[\"One family household\"][\"Lone parent\"][\"All children non-dependent\"]+\\\n",
    "    Frac_Y*2*H_ONS[\"One family household\"][\"Married or same-sex civil partnership couple\"][\"Dependent children\"]+\\\n",
    "    Frac_Y*2*H_ONS[\"One family household\"][\"Cohabiting couple\"][\"Dependent children\"]+\\\n",
    "    Frac_Y*H_ONS[\"One family household\"][\"Lone parent\"][\"Dependent children\"]\n",
    "print(f\"Census Y: {NY}, Household Y: {NY_Check}, Ratio: {NY_Check / NY}\")\n",
    "\n",
    "NK_Check = \\\n",
    "    av_dependents*H_ONS[\"One family household\"][\"Lone parent\"][\"Dependent children\"]+\\\n",
    "    av_dependents*H_ONS[\"One family household\"][\"Cohabiting couple\"][\"Dependent children\"]+\\\n",
    "    av_dependents*H_ONS[\"One family household\"][\"Married or same-sex civil partnership couple\"][\"Dependent children\"]\n",
    "\n",
    "print(f\"Census K: {NK}, Household K: {NK_Check}, Ratio: {NK_Check / NK}\")\n",
    "\n",
    "#We use these numbers for our normalisation"
   ]
  },
  {
   "cell_type": "code",
   "execution_count": 11,
   "id": "83ec2a26",
   "metadata": {},
   "outputs": [
    {
     "name": "stdout",
     "output_type": "stream",
     "text": [
      "M_OO: 1.305\n",
      "M_OA: inf\n",
      "M_OY: inf\n",
      "M_OK: inf\n"
     ]
    }
   ],
   "source": [
    "#OLDS\n",
    "Num = NO_Check\n",
    "Dem = \\\n",
    "    2*H_ONS[\"One family household\"][\"All aged 65 and over\"]\n",
    "if Dem != 0:\n",
    "    F = Num/Dem\n",
    "else:\n",
    "    F = np.inf\n",
    "M_OO = (BBC_Dict[\"O\"][\"O\"])*F\n",
    "M_OO = round(M_OO, Nround)\n",
    "print(f\"M_OO: {M_OO}\")\n",
    "\n",
    "Dem = 0\n",
    "if Dem != 0:\n",
    "    F = Num/Dem\n",
    "else:\n",
    "    F = np.inf\n",
    "M_OA = (BBC_Dict[\"O\"][\"A\"])*F\n",
    "M_OA = round(M_OA, Nround)\n",
    "print(f\"M_OA: {M_OA}\")\n",
    "\n",
    "Dem = 0\n",
    "if Dem != 0:\n",
    "    F = Num/Dem\n",
    "else:\n",
    "    F = np.inf\n",
    "M_OY = (BBC_Dict[\"O\"][\"Y\"])*F\n",
    "M_OY = round(M_OY, Nround)\n",
    "print(f\"M_OY: {M_OY}\")\n",
    "\n",
    "Dem = 0\n",
    "if Dem != 0:\n",
    "    F = Num/Dem\n",
    "else:\n",
    "    F = np.inf\n",
    "M_OK = (BBC_Dict[\"O\"][\"K\"])*F\n",
    "M_OK = round(M_OK, Nround)\n",
    "print(f\"M_OK: {M_OK}\")"
   ]
  },
  {
   "cell_type": "code",
   "execution_count": 12,
   "id": "7725a57a",
   "metadata": {},
   "outputs": [
    {
     "name": "stdout",
     "output_type": "stream",
     "text": [
      "M_AO: inf\n",
      "M_AA: 1.192\n",
      "M_AY: 0.928\n",
      "M_AK: 1.302\n"
     ]
    }
   ],
   "source": [
    "Num = NA_Check\n",
    "\n",
    "Dem = 0\n",
    "if Dem != 0:\n",
    "    F = Num/Dem\n",
    "else:\n",
    "    F = np.inf\n",
    "M_AO = (BBC_Dict[\"A\"][\"O\"])*F\n",
    "M_AO = round(M_AO, Nround)\n",
    "print(f\"M_AO: {M_AO}\")\n",
    "\n",
    "Dem = \\\n",
    "    2*H_ONS[\"One family household\"][\"Married or same-sex civil partnership couple\"][\"Total\"]+\\\n",
    "    2*H_ONS[\"One family household\"][\"Cohabiting couple\"][\"Total\"]\n",
    "if Dem != 0:\n",
    "    F = Num/Dem\n",
    "else:\n",
    "    F = np.inf\n",
    "M_AA = (BBC_Dict[\"A\"][\"A\"])*F\n",
    "M_AA = round(M_AA, Nround)\n",
    "print(f\"M_AA: {M_AA}\")\n",
    "\n",
    "Dem = \\\n",
    "    Frac_A*2*H_ONS[\"One family household\"][\"Married or same-sex civil partnership couple\"][\"All children non-dependent\"]+\\\n",
    "    Frac_A*2*H_ONS[\"One family household\"][\"Cohabiting couple\"][\"All children non-dependent\"]+\\\n",
    "    Frac_A*1*H_ONS[\"One family household\"][\"Lone parent\"][\"All children non-dependent\"]\n",
    "if Dem != 0:\n",
    "    F = Num/Dem\n",
    "else:\n",
    "    F = np.inf\n",
    "M_AY = BBC_Dict[\"A\"][\"Y\"]*F\n",
    "M_AY = round(M_AY, Nround)\n",
    "print(f\"M_AY: {M_AY}\")\n",
    "\n",
    "Dem = \\\n",
    "    Frac_A*2*H_ONS[\"One family household\"][\"Married or same-sex civil partnership couple\"][\"Dependent children\"]+\\\n",
    "    Frac_A*2*H_ONS[\"One family household\"][\"Cohabiting couple\"][\"Dependent children\"]+\\\n",
    "    Frac_A*(H_ONS[\"One family household\"][\"Lone parent\"][\"Dependent children\"])\n",
    "if Dem != 0:\n",
    "    F = Num/Dem\n",
    "else:\n",
    "    F = np.inf\n",
    "M_AK = (BBC_Dict[\"A\"][\"K\"])*F\n",
    "M_AK = round(M_AK, Nround)\n",
    "print(f\"M_AK: {M_AK}\")"
   ]
  },
  {
   "cell_type": "code",
   "execution_count": 13,
   "id": "e815efab",
   "metadata": {},
   "outputs": [
    {
     "name": "stdout",
     "output_type": "stream",
     "text": [
      "M_YO: inf\n",
      "M_YA: 1.312\n",
      "M_YY: 2.477\n",
      "M_YK: 0.564\n"
     ]
    }
   ],
   "source": [
    "Num = NY_Check\n",
    "\n",
    "Dem = 0\n",
    "if Dem != 0:\n",
    "    F = Num/Dem\n",
    "else:\n",
    "    F = np.inf\n",
    "M_YO = (BBC_Dict[\"Y\"][\"O\"])*F\n",
    "M_YO = round(M_YO, Nround)\n",
    "print(f\"M_YO: {M_YO}\")\n",
    "\n",
    "#Not all the dependents will be Young adults\n",
    "Dem = \\\n",
    "    YwParentsP2*H_ONS[\"One family household\"][\"Married or same-sex civil partnership couple\"][\"All children non-dependent\"]+\\\n",
    "    YwParentsP2*H_ONS[\"One family household\"][\"Cohabiting couple\"][\"All children non-dependent\"]+\\\n",
    "    YwParentsP2*H_ONS[\"One family household\"][\"Lone parent\"][\"All children non-dependent\"]\n",
    "if Dem != 0:\n",
    "    F = Num/Dem\n",
    "else:\n",
    "    F = np.inf\n",
    "M_YA = (BBC_Dict[\"Y\"][\"A\"])*F\n",
    "\n",
    "#M_YA = (1/3)*((0.87/0.75)+(0.65/0.5)+(0.55/0.4))\n",
    "M_YA = round(M_YA, Nround)\n",
    "print(f\"M_YA: {M_YA}\")\n",
    "\n",
    "#M_YY = M_AA\n",
    "Dem = \\\n",
    "    (StudentsPerHouse)*H_ONS[\"Other household types\"][\"All full-time students\"] + \\\n",
    "    (1-NDependents_Frac[1])*(YwParentsP2)*H_ONS[\"One family household\"][\"Married or same-sex civil partnership couple\"][\"All children non-dependent\"]+\\\n",
    "    (1-NDependents_Frac[1])*(YwParentsP2)*H_ONS[\"One family household\"][\"Cohabiting couple\"][\"All children non-dependent\"]+\\\n",
    "    (1-NDependents_Frac[1])*(YwParentsP2)*H_ONS[\"One family household\"][\"Lone parent\"][\"All children non-dependent\"]\n",
    "if Dem != 0:\n",
    "    F = Num/Dem\n",
    "else:\n",
    "    F = np.inf\n",
    "M_YY = (BBC_Dict[\"Y\"][\"Y\"])*F\n",
    "M_YY = round(M_YY, Nround)\n",
    "print(f\"M_YY: {M_YY}\")\n",
    "\n",
    "Dem = \\\n",
    "    Frac_Y*2*H_ONS[\"One family household\"][\"Married or same-sex civil partnership couple\"][\"Dependent children\"]+\\\n",
    "    Frac_Y*2*H_ONS[\"One family household\"][\"Cohabiting couple\"][\"Dependent children\"]+\\\n",
    "    Frac_Y*H_ONS[\"One family household\"][\"Lone parent\"][\"Dependent children\"]\n",
    "if Dem != 0:\n",
    "    F = Num/Dem\n",
    "else:\n",
    "    F = np.inf\n",
    "M_YK = (BBC_Dict[\"Y\"][\"K\"])*F\n",
    "M_YK = round(M_YK, Nround)\n",
    "print(f\"M_YK: {M_YK}\")"
   ]
  },
  {
   "cell_type": "code",
   "execution_count": 14,
   "id": "8c9055ed",
   "metadata": {},
   "outputs": [
    {
     "name": "stdout",
     "output_type": "stream",
     "text": [
      "M_KO: inf\n",
      "M_KA: 1.485\n",
      "M_KY: 1.297\n",
      "M_KK: 1.368\n"
     ]
    }
   ],
   "source": [
    "Num = NK_Check\n",
    "\n",
    "Dem = 0\n",
    "if Dem != 0:\n",
    "    F = Num/Dem\n",
    "else:\n",
    "    F = np.inf\n",
    "M_KO = (BBC_Dict[\"K\"][\"O\"])*F\n",
    "M_KO = round(M_KO, Nround)\n",
    "print(f\"M_KO: {M_KO}\")\n",
    "\n",
    "Dem = \\\n",
    "    av_dependents*H_ONS[\"One family household\"][\"Lone parent\"][\"Dependent children\"]+\\\n",
    "    av_dependents*H_ONS[\"One family household\"][\"Cohabiting couple\"][\"Dependent children\"]+\\\n",
    "    av_dependents*H_ONS[\"One family household\"][\"Married or same-sex civil partnership couple\"][\"Dependent children\"]\n",
    "if Dem != 0:\n",
    "    F = Num/Dem\n",
    "else:\n",
    "    F = np.inf\n",
    "M_KA = (BBC_Dict[\"K\"][\"A\"])#*F\n",
    "M_KA = round(M_KA, Nround)\n",
    "print(f\"M_KA: {M_KA}\")\n",
    "\n",
    "Dem = \\\n",
    "    (av_dependents-1)*Frac_Y*H_ONS[\"One family household\"][\"Lone parent\"][\"Dependent children\"]+\\\n",
    "    (av_dependents-1)*Frac_Y*H_ONS[\"One family household\"][\"Cohabiting couple\"][\"Dependent children\"]+\\\n",
    "    (av_dependents-1)*Frac_Y*H_ONS[\"One family household\"][\"Married or same-sex civil partnership couple\"][\"Dependent children\"]\n",
    "\n",
    "if Dem != 0:\n",
    "    F = Num/Dem\n",
    "else:\n",
    "    F = np.inf\n",
    "M_KY = (BBC_Dict[\"K\"][\"Y\"])*F\n",
    "M_KY = round(M_KY, Nround)\n",
    "print(f\"M_KY: {M_KY}\")\n",
    "\n",
    "Dem = \\\n",
    "    (1-NDependents_Frac[1])*av_dependents*H_ONS[\"One family household\"][\"Lone parent\"][\"Dependent children\"]+\\\n",
    "    (1-NDependents_Frac[1])*av_dependents*H_ONS[\"One family household\"][\"Cohabiting couple\"][\"Dependent children\"]+\\\n",
    "    (1-NDependents_Frac[1])*av_dependents*H_ONS[\"One family household\"][\"Married or same-sex civil partnership couple\"][\"Dependent children\"]\n",
    "if Dem != 0:\n",
    "    F = Num/Dem\n",
    "else:\n",
    "    F = np.inf\n",
    "M_KK = (BBC_Dict[\"K\"][\"K\"])*F\n",
    "M_KK = round(M_KK, Nround)\n",
    "print(f\"M_KK: {M_KK}\")"
   ]
  },
  {
   "cell_type": "code",
   "execution_count": 15,
   "id": "fc88f3d7",
   "metadata": {},
   "outputs": [],
   "source": [
    "M_AO = M_AA\n",
    "M_OA = M_AA\n",
    "\n",
    "M_OA = M_AA\n",
    "M_OY = M_AY\n",
    "M_OK = M_AK\n",
    "\n",
    "M_YO = M_YA\n",
    "M_KO = M_KA\n",
    "M_YK = M_AK"
   ]
  },
  {
   "cell_type": "code",
   "execution_count": 16,
   "id": "b4a3184e",
   "metadata": {},
   "outputs": [
    {
     "name": "stdout",
     "output_type": "stream",
     "text": [
      "[[1.368, 1.297, 1.485, 1.485], [1.302, 2.477, 1.312, 1.312], [1.302, 0.928, 1.192, 1.192], [1.302, 0.928, 1.192, 1.305]]\n"
     ]
    }
   ],
   "source": [
    "M = [\n",
    "    [M_KK, M_KY, M_KA, M_KO],\n",
    "    [M_YK, M_YY, M_YA, M_YO],\n",
    "    [M_AK, M_AY, M_AA, M_AO],\n",
    "    [M_OK, M_OY, M_OA, M_OO]\n",
    "]\n",
    "print(M)\n",
    "M = np.array(M)"
   ]
  },
  {
   "cell_type": "code",
   "execution_count": 17,
   "id": "ffa3ec4a",
   "metadata": {},
   "outputs": [
    {
     "name": "stdout",
     "output_type": "stream",
     "text": [
      "[[1.2, 1.27, 1.27, 1.27], [1.69, 1.34, 1.3, 1.3], [1.69, 1.47, 1.34, 1.34], [1.69, 1.47, 1.34, 2.0]]\n"
     ]
    }
   ],
   "source": [
    "MOld = [[1.2,1.27,1.27,1.27],[1.69,1.34,1.3,1.3],[1.69,1.47,1.34,1.34],[1.69,1.47,1.34,2.00]]\n",
    "print(MOld)\n",
    "MOld = np.array(MOld)"
   ]
  },
  {
   "cell_type": "code",
   "execution_count": 18,
   "id": "0b167383",
   "metadata": {},
   "outputs": [
    {
     "name": "stdout",
     "output_type": "stream",
     "text": [
      "[[1.14       1.02125984 1.16929134 1.16929134]\n",
      " [0.7704142  1.84850746 1.00923077 1.00923077]\n",
      " [0.7704142  0.63129252 0.88955224 0.88955224]\n",
      " [0.7704142  0.63129252 0.88955224 0.6525    ]]\n"
     ]
    }
   ],
   "source": [
    "print(M / MOld)"
   ]
  },
  {
   "cell_type": "code",
   "execution_count": null,
   "id": "00c5dfbd",
   "metadata": {},
   "outputs": [],
   "source": []
  },
  {
   "cell_type": "code",
   "execution_count": null,
   "id": "f03ed6c1",
   "metadata": {},
   "outputs": [],
   "source": []
  },
  {
   "cell_type": "code",
   "execution_count": 19,
   "id": "564f42d0",
   "metadata": {},
   "outputs": [
    {
     "data": {
      "image/png": "[encoded data removed]",
      "text/plain": [
       "<Figure size 1080x360 with 6 Axes>"
      ]
     },
     "metadata": {},
     "output_type": "display_data"
    }
   ],
   "source": [
    "M = np.nan_to_num(M, posinf=0)\n",
    "vmin = 0\n",
    "vmax = max(np.nanmax(M), np.nanmax(MOld))\n",
    "\n",
    "plt.rcParams[\"figure.figsize\"] = (15,5)\n",
    "f, (ax1,ax2, ax3) = plt.subplots(1,3)\n",
    "f.patch.set_facecolor('white')\n",
    "im1 = ax1.imshow(MOld.T, origin=\"lower\", vmin =vmin, vmax=vmax)\n",
    "AnnotateCM(MOld.T, cm_err=None, ax=ax1, thresh=np.inf)\n",
    "ax1.xaxis.tick_bottom()\n",
    "ax1.set_xticks(np.arange(len(BBC_Contracted)))\n",
    "ax1.set_xticklabels(Contracted_labels,rotation=45)\n",
    "ax1.set_yticks(np.arange(len(BBC_Contracted)))\n",
    "ax1.set_yticklabels(Contracted_labels)\n",
    "ax1.set_title(\"OLD JUNE Household CM\")\n",
    "\n",
    "im2 = ax2.imshow(BBC_Contracted.T, origin=\"lower\", vmin =vmin, vmax=vmax)\n",
    "AnnotateCM(BBC_Contracted.T, cm_err=None, ax=ax2, thresh=np.inf)\n",
    "ax2.xaxis.tick_bottom()\n",
    "ax2.set_xticks(np.arange(len(BBC_Contracted)))\n",
    "ax2.set_xticklabels(Contracted_labels,rotation=45)\n",
    "ax2.set_yticks(np.arange(len(BBC_Contracted)))\n",
    "ax2.set_yticklabels(Contracted_labels)\n",
    "ax2.set_title(\"BBC Contracted\")\n",
    "\n",
    "im3 = ax3.imshow(M.T, origin=\"lower\", vmin =vmin, vmax=vmax)\n",
    "AnnotateCM(M.T, cm_err=None, ax=ax3, thresh=np.inf)\n",
    "ax3.xaxis.tick_bottom()\n",
    "ax3.set_xticks(np.arange(len(BBC_Contracted)))\n",
    "ax3.set_xticklabels(Contracted_labels,rotation=45)\n",
    "ax3.set_yticks(np.arange(len(BBC_Contracted)))\n",
    "ax3.set_yticklabels(Contracted_labels)\n",
    "ax3.set_title(\"New JUNE Household CM\")\n",
    "\n",
    "f.colorbar(im1, ax=ax1, extend=\"both\")\n",
    "f.colorbar(im2, ax=ax2, extend=\"both\")\n",
    "f.colorbar(im3, ax=ax3, extend=\"both\")\n",
    "plt.savefig(\"/home/joseph/Desktop/Householdmatrix.jpg\")"
   ]
  },
  {
   "cell_type": "markdown",
   "id": "91ce6de1",
   "metadata": {},
   "source": [
    "# # Messabout with Adult / Child probability\n"
   ]
  },
  {
   "cell_type": "code",
   "execution_count": 20,
   "id": "4897f885",
   "metadata": {},
   "outputs": [
    {
     "name": "stdout",
     "output_type": "stream",
     "text": [
      "{0: 0, 1: 0, 2: 0, 3: 0, 4: 0, 5: 0, 6: 0, 7: 0, 8: 0, 9: 0, 10: 0, 11: 0, 12: 0, 13: 0.057324175898868734, 14: 0.1978161114414182, 15: 0.5, 16: 0.8021838885585818, 17: 0.9426758241011313, 18: 1, 19: 1, 20: 1, 21: 1, 22: 1, 23: 1, 24: 1}\n"
     ]
    },
    {
     "data": {
      "image/png": "[encoded data removed]",
      "text/plain": [
       "<Figure size 1080x360 with 1 Axes>"
      ]
     },
     "metadata": {
      "needs_background": "light"
     },
     "output_type": "display_data"
    }
   ],
   "source": [
    "from scipy import stats\n",
    "\n",
    "def P_IsAdult(age):\n",
    "    tanh_halfpeak_age = 15#17.1\n",
    "    tanh_width = .7#1\n",
    "    \n",
    "    minageadult = 13\n",
    "    maxagechild = 17\n",
    "    if age < minageadult:\n",
    "        return 0\n",
    "    elif age > maxagechild:\n",
    "        return 1\n",
    "    else:\n",
    "        return (np.tanh(tanh_width*(age-tanh_halfpeak_age))+1)/2\n",
    "    \n",
    "def P_IsChild(age):\n",
    "    return 1 - P_IsAdult(age)\n",
    "\n",
    "def AorC(age):\n",
    "    r = np.random.rand(1)[0]\n",
    "    if r < P_IsAdult(age):\n",
    "        return \"Adult\"\n",
    "    else:\n",
    "        return \"Child\"\n",
    "    \n",
    "\n",
    "xs = np.arange(0,25,1)\n",
    "\n",
    "\n",
    "plt.bar(xs, [P_IsAdult(xi) for xi in xs], label=\"P_adult\")\n",
    "plt.bar(xs, [P_IsChild(xi) for xi in xs], bottom=[P_IsAdult(xi) for xi in xs], label=\"P_child\")\n",
    "plt.legend()\n",
    "\n",
    "plt.xlim([12, 23])\n",
    "\n",
    "adultchild_distribution = dict(zip(xs,  [P_IsAdult(xi) for xi in xs] ))\n",
    "print(adultchild_distribution)\n",
    "\n",
    "\n",
    "\n",
    "# adultchild_distribution = {\n",
    "#     14: 0.07,\n",
    "#     15: 0.11,\n",
    "#     16: 0.15,\n",
    "#     17: 0.18,\n",
    "#     18: 0.16,\n",
    "#     19: 0.13,\n",
    "#     20: 0.08,\n",
    "#     21: 0.07,\n",
    "#     22: 0.03,\n",
    "# }\n",
    "# self.household_size_generator = stats.rv_discrete(\n",
    "#     values=[\n",
    "#         list(adultchild_distribution.keys()),\n",
    "#         list(adultchild_distribution.values()),\n",
    "#     ]\n",
    "# )"
   ]
  },
  {
   "cell_type": "code",
   "execution_count": null,
   "id": "85bdce8a",
   "metadata": {},
   "outputs": [],
   "source": []
  },
  {
   "cell_type": "code",
   "execution_count": null,
   "id": "049f2a53",
   "metadata": {},
   "outputs": [],
   "source": []
  },
  {
   "cell_type": "code",
   "execution_count": null,
   "id": "b9d550ad",
   "metadata": {},
   "outputs": [],
   "source": []
  }
 ],
 "metadata": {
  "kernelspec": {
   "display_name": "Python 3 (ipykernel)",
   "language": "python",
   "name": "python3"
  },
  "language_info": {
   "codemirror_mode": {
    "name": "ipython",
    "version": 3
   },
   "file_extension": ".py",
   "mimetype": "text/x-python",
   "name": "python",
   "nbconvert_exporter": "python",
   "pygments_lexer": "ipython3",
   "version": "3.8.10"
  }
 },
 "nbformat": 4,
 "nbformat_minor": 5
}
